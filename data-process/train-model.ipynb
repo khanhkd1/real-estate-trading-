{
 "cells": [
  {
   "cell_type": "code",
   "execution_count": 18,
   "id": "f5a28aff",
   "metadata": {},
   "outputs": [],
   "source": [
    "import pandas as pd\n",
    "import numpy as np\n",
    "from sklearn import preprocessing\n",
    "from sklearn.model_selection import train_test_split"
   ]
  },
  {
   "cell_type": "code",
   "execution_count": 19,
   "id": "4bdab855",
   "metadata": {},
   "outputs": [],
   "source": [
    "df = pd.read_csv('total-data.csv')\n",
    "address_encode = preprocessing.LabelEncoder()\n",
    "investor_encode = preprocessing.LabelEncoder()\n",
    "df['address'] = address_encode.fit_transform(df['address'])\n",
    "df['investor'] = investor_encode.fit_transform(df['investor'])\n",
    "X = df[['address', 'bedroom', 'toilet', 'investor', 'acreage', 'lat', 'long', 'distance']]\n",
    "y = df['price']\n",
    "X_train, X_test, y_train, y_test = train_test_split(X, y, test_size=0.2, random_state=42)"
   ]
  },
  {
   "cell_type": "code",
   "execution_count": 27,
   "id": "d476973b",
   "metadata": {},
   "outputs": [
    {
     "name": "stdout",
     "output_type": "stream",
     "text": [
      "score: 0.21466966196662463\n",
      "score: -19.692162121196848\n"
     ]
    }
   ],
   "source": [
    "from sklearn.ensemble import RandomForestRegressor\n",
    "regr = RandomForestRegressor(max_depth=2, random_state=0)\n",
    "regr.fit(X_train, y_train)\n",
    "print(f'score: {regr.score(X_train, y_train)}')\n",
    "print(f'score: {regr.score(X_test, y_test)}')"
   ]
  },
  {
   "cell_type": "code",
   "execution_count": 28,
   "id": "3ba996eb",
   "metadata": {},
   "outputs": [
    {
     "name": "stdout",
     "output_type": "stream",
     "text": [
      "score: 0.993278571474457\n",
      "score: -0.2834642392227853\n"
     ]
    }
   ],
   "source": [
    "from sklearn.tree import DecisionTreeRegressor\n",
    "regressor = DecisionTreeRegressor(random_state=0)\n",
    "regressor.fit(X_train, y_train)\n",
    "print(f'score: {regressor.score(X_train, y_train)}')\n",
    "print(f'score: {regressor.score(X_test, y_test)}')"
   ]
  },
  {
   "cell_type": "code",
   "execution_count": null,
   "id": "f900ada7",
   "metadata": {},
   "outputs": [],
   "source": []
  }
 ],
 "metadata": {
  "kernelspec": {
   "display_name": "Python 3 (ipykernel)",
   "language": "python",
   "name": "python3"
  },
  "language_info": {
   "codemirror_mode": {
    "name": "ipython",
    "version": 3
   },
   "file_extension": ".py",
   "mimetype": "text/x-python",
   "name": "python",
   "nbconvert_exporter": "python",
   "pygments_lexer": "ipython3",
   "version": "3.8.12"
  }
 },
 "nbformat": 4,
 "nbformat_minor": 5
}
