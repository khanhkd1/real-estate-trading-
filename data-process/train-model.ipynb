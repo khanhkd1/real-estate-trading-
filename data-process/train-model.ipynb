{
 "cells": [
  {
   "cell_type": "code",
   "execution_count": 9,
   "id": "f5a28aff",
   "metadata": {},
   "outputs": [],
   "source": [
    "import pandas as pd\n",
    "import numpy as np\n",
    "from sklearn import preprocessing\n",
    "from sklearn.model_selection import train_test_split\n",
    "from sklearn.metrics import mean_squared_error"
   ]
  },
  {
   "cell_type": "code",
   "execution_count": 5,
   "id": "4bdab855",
   "metadata": {},
   "outputs": [],
   "source": [
    "df = pd.read_csv('total-data.csv')\n",
    "address_encode = preprocessing.LabelEncoder()\n",
    "investor_encode = preprocessing.LabelEncoder()\n",
    "df['address'] = address_encode.fit_transform(df['address'])\n",
    "df['investor'] = investor_encode.fit_transform(df['investor'])\n",
    "X = df[['address', 'bedroom', 'toilet', 'investor', 'acreage', 'lat', 'long', 'distance']]\n",
    "y = df['price']\n",
    "X_train, X_test, y_train, y_test = train_test_split(X, y, test_size=0.2, random_state=42)"
   ]
  },
  {
   "cell_type": "code",
   "execution_count": 13,
   "id": "3ba996eb",
   "metadata": {},
   "outputs": [
    {
     "name": "stdout",
     "output_type": "stream",
     "text": [
      "mean_squared_error: 638.1758974120171\n"
     ]
    }
   ],
   "source": [
    "from sklearn.tree import DecisionTreeRegressor\n",
    "regressor = DecisionTreeRegressor(random_state=0)\n",
    "regressor.fit(X_train, y_train)\n",
    "print(f'mean_squared_error: {mean_squared_error(y_test, regressor.predict(X_test))}')"
   ]
  },
  {
   "cell_type": "code",
   "execution_count": 14,
   "id": "33f40d3c",
   "metadata": {},
   "outputs": [
    {
     "name": "stdout",
     "output_type": "stream",
     "text": [
      "mean_squared_error: 4.606558076071398e+24\n"
     ]
    }
   ],
   "source": [
    "from sklearn.linear_model import SGDRegressor\n",
    "regressor = SGDRegressor()\n",
    "regressor.fit(X_train, y_train)\n",
    "print(f'mean_squared_error: {mean_squared_error(y_test, regressor.predict(X_test))}')"
   ]
  },
  {
   "cell_type": "code",
   "execution_count": 15,
   "id": "73cd4f60",
   "metadata": {},
   "outputs": [
    {
     "name": "stdout",
     "output_type": "stream",
     "text": [
      "mean_squared_error: 464.90804635095\n"
     ]
    }
   ],
   "source": [
    "from sklearn.kernel_ridge import KernelRidge\n",
    "regressor = KernelRidge()\n",
    "regressor.fit(X_train, y_train)\n",
    "print(f'mean_squared_error: {mean_squared_error(y_test, regressor.predict(X_test))}')"
   ]
  },
  {
   "cell_type": "code",
   "execution_count": 17,
   "id": "a1c3687e",
   "metadata": {},
   "outputs": [
    {
     "name": "stdout",
     "output_type": "stream",
     "text": [
      "mean_squared_error: 485.7949147970786\n"
     ]
    }
   ],
   "source": [
    "from sklearn.svm import SVR\n",
    "regressor = SVR()\n",
    "regressor.fit(X_train, y_train)\n",
    "print(f'mean_squared_error: {mean_squared_error(y_test, regressor.predict(X_test))}')"
   ]
  },
  {
   "cell_type": "code",
   "execution_count": 18,
   "id": "af996580",
   "metadata": {},
   "outputs": [
    {
     "name": "stdout",
     "output_type": "stream",
     "text": [
      "mean_squared_error: 726.8430947626526\n"
     ]
    }
   ],
   "source": [
    "from sklearn.ensemble import GradientBoostingRegressor\n",
    "regressor = GradientBoostingRegressor()\n",
    "regressor.fit(X_train, y_train)\n",
    "print(f'mean_squared_error: {mean_squared_error(y_test, regressor.predict(X_test))}')"
   ]
  },
  {
   "cell_type": "code",
   "execution_count": 20,
   "id": "7777a224",
   "metadata": {},
   "outputs": [
    {
     "name": "stdout",
     "output_type": "stream",
     "text": [
      "mean_squared_error: 475.474799153872\n"
     ]
    }
   ],
   "source": [
    "from sklearn.linear_model import BayesianRidge\n",
    "regressor = BayesianRidge()\n",
    "regressor.fit(X_train, y_train)\n",
    "print(f'mean_squared_error: {mean_squared_error(y_test, regressor.predict(X_test))}')"
   ]
  },
  {
   "cell_type": "code",
   "execution_count": 21,
   "id": "4533229c",
   "metadata": {},
   "outputs": [
    {
     "name": "stdout",
     "output_type": "stream",
     "text": [
      "mean_squared_error: 475.6487567659047\n"
     ]
    }
   ],
   "source": [
    "from sklearn.linear_model import ElasticNet\n",
    "regressor = ElasticNet()\n",
    "regressor.fit(X_train, y_train)\n",
    "print(f'mean_squared_error: {mean_squared_error(y_test, regressor.predict(X_test))}')"
   ]
  },
  {
   "cell_type": "code",
   "execution_count": 23,
   "id": "aa2e61f4",
   "metadata": {},
   "outputs": [
    {
     "name": "stdout",
     "output_type": "stream",
     "text": [
      "mean_squared_error: 475.474799153872\n"
     ]
    }
   ],
   "source": [
    "import pandas as pd\n",
    "import numpy as np\n",
    "from sklearn import preprocessing\n",
    "from sklearn.model_selection import train_test_split\n",
    "from sklearn.metrics import mean_squared_error\n",
    "import pickle\n",
    "\n",
    "df = pd.read_csv('total-data.csv')\n",
    "address_encode = preprocessing.LabelEncoder()\n",
    "investor_encode = preprocessing.LabelEncoder()\n",
    "df['address'] = address_encode.fit_transform(df['address'])\n",
    "df['investor'] = investor_encode.fit_transform(df['investor'])\n",
    "X = df[['address', 'bedroom', 'toilet', 'investor', 'acreage', 'lat', 'long', 'distance']]\n",
    "y = df['price']\n",
    "X_train, X_test, y_train, y_test = train_test_split(X, y, test_size=0.2, random_state=42)\n",
    "\n",
    "from sklearn.linear_model import BayesianRidge\n",
    "bayesian_ridge_model = BayesianRidge()\n",
    "bayesian_ridge_model.fit(X_train, y_train)\n",
    "print(f'mean_squared_error: {mean_squared_error(y_test, bayesian_ridge_model.predict(X_test))}')\n",
    "\n",
    "pickle.dump(bayesian_ridge_model, open('bayesian_ridge_model.pkl', 'wb'))\n",
    "pickle.dump(address_encode, open('address_encode.pkl', 'wb'))\n",
    "pickle.dump(investor_encode, open('investor_encode.pkl', 'wb'))"
   ]
  },
  {
   "cell_type": "code",
   "execution_count": 26,
   "id": "8be5ca2e",
   "metadata": {},
   "outputs": [],
   "source": [
    "bayesian_ridge_model = pickle.load(open('bayesian_ridge_model.pkl', 'rb'))\n",
    "address_encode = pickle.load(open('address_encode.pkl', 'rb'))\n",
    "investor_encode = pickle.load(open('investor_encode.pkl', 'rb'))"
   ]
  },
  {
   "cell_type": "code",
   "execution_count": 34,
   "id": "83daa6c6",
   "metadata": {},
   "outputs": [
    {
     "data": {
      "text/plain": [
       "array([9])"
      ]
     },
     "execution_count": 34,
     "metadata": {},
     "output_type": "execute_result"
    }
   ],
   "source": [
    "address_encode.transform(['Hà Đông'])"
   ]
  },
  {
   "cell_type": "code",
   "execution_count": 31,
   "id": "61d05fdf",
   "metadata": {},
   "outputs": [],
   "source": [
    "df = pd.read_csv('total-data.csv')"
   ]
  },
  {
   "cell_type": "code",
   "execution_count": 35,
   "id": "98443c47",
   "metadata": {},
   "outputs": [
    {
     "data": {
      "text/plain": [
       "array(['Nam Từ Liêm', 'Cầu Giấy', 'Tây Hồ', 'Bắc Từ Liêm', 'Hoàng Mai',\n",
       "       'Thanh Xuân', 'Ba Đình', 'Gia Lâm', 'Hà Đông', 'Hoàn Kiếm',\n",
       "       'Hai Bà Trưng', 'Long Biên', 'Đống Đa', 'Thanh Trì', 'Hoài Đức',\n",
       "       'Thanh Oai', 'Đan Phượng', 'Đông Anh', 'Chương Mỹ'], dtype=object)"
      ]
     },
     "execution_count": 35,
     "metadata": {},
     "output_type": "execute_result"
    }
   ],
   "source": [
    "df['address'].unique()"
   ]
  },
  {
   "cell_type": "code",
   "execution_count": 36,
   "id": "cb109828",
   "metadata": {},
   "outputs": [
    {
     "data": {
      "text/plain": [
       "array(['other', 'tập đoàn vingroup', 'tân hoàng minh group',\n",
       "       'tổng công ty đầu tư phát triển hạ tầng đô thị - udic',\n",
       "       'công ty tnhh thương mại - quảng cáo - xây dựng - địa ốc việt hân',\n",
       "       'công ty cp xây dựng số 2 - vinaconex2',\n",
       "       'công ty cp xuất nhập khẩu tổng hợp hà nội - geleximco',\n",
       "       'công ty cp tập đoàn sunshine', 'công ty cổ phần tập đoàn flc',\n",
       "       'công ty cp xây dựng và thương mại bắc hà',\n",
       "       'công ty tnhh phát triển khu đô thị nam thăng long',\n",
       "       'công ty cp tập đoàn nam cường hà nội',\n",
       "       'công ty cp đầu tư văn phú - invest',\n",
       "       'công ty cp đầu tư xây dựng số 9 hà nội',\n",
       "       'tổng công ty đầu tư và phát triển nhà hà nội - handico',\n",
       "       'doanh nghiệp tư nhân xây dựng số 1 tỉnh điện biên',\n",
       "       'tổng công ty đầu tư phát triển nhà và đô thị bộ quốc phòng',\n",
       "       'công ty cp sông đà 7',\n",
       "       'tổng công ty đầu tư phát triển nhà và đô thị hud',\n",
       "       'công ty tnhh bất động sản và xây dựng việt hưng',\n",
       "       'tập đoàn sun group', 'công ty cổ phần đầu tư mai linh',\n",
       "       'tập đoàn hòa phát', 'công ty cp terra gold việt nam',\n",
       "       'công ty cp đầu tư phú thượng ', 'công ty cp đầu tư hải phát',\n",
       "       'tổng công ty 319 - bộ quốc phòng',\n",
       "       'tổng công ty cp thương mại xây dựng',\n",
       "       'công ty cp đầu tư xây dựng phát triển nhà số 7 hà nội ',\n",
       "       'công ty cp y dược phẩm vimedimex', 'tập đoàn brg',\n",
       "       'công ty cp tập đoàn s.s.g', 'tổng công ty 36 - bộ quốc phòng',\n",
       "       'công ty cp hóa dầu quân đội',\n",
       "       'tổng công ty đầu tư và phát triển nhà hà nội (handico)',\n",
       "       'công ty cp đầu tư và thương mại thăng long',\n",
       "       'tổng công ty viglacera',\n",
       "       'công ty cp đầu tư kinh doanh và phát triển hạ tầng kcn phúc hà',\n",
       "       'công ty cp đầu tư hải phát thủ đô',\n",
       "       'công ty cp đầu tư bất động sản đông đô - bqp',\n",
       "       'công ty tsq việt nam',\n",
       "       'công ty cp đầu tư xây dựng và kinh doanh nhà hà nội số 35',\n",
       "       'tổng công ty cp xuất nhập khẩu và xây dựng việt nam',\n",
       "       'công ty cp đầu tư hạ tầng và công trình kiến trúc hà nội',\n",
       "       'công ty cp tập đoàn xây dựng và thiết bị công nghiệp cie corp',\n",
       "       'tổng công ty đầu tư phát triển nhà và đô thị bộ quốc phòng ',\n",
       "       'công ty tnhh thiên hương',\n",
       "       'công ty cp đầu tư và phát triển đô thị long giang',\n",
       "       'công ty cp đầu tư bất động sản toàn cầu (gp invest)',\n",
       "       'công ty cp sông đà thăng long',\n",
       "       'công ty tnhh mtv đầu tư phương đông',\n",
       "       'công ty tnhh gamuda land việt nam', 'hd mon holdings',\n",
       "       'công ty cp đầu tư phát triển đô thị và kcn sông đà - sudico',\n",
       "       'công ty tnhh đầu tư bất động sản dlc',\n",
       "       'công ty cp ngôi sao an bình', 'công ty cp xây dựng số 1 hà nội',\n",
       "       'công ty cp bất động sản hải phát',\n",
       "       'công ty cp xây dựng và phát triển hạ tầng đô thị - bid việt nam',\n",
       "       'công ty cp xây dựng số 3 - vinaconex3',\n",
       "       'công ty tnhh bánh kẹo thăng long',\n",
       "       'công ty cp đầu tư và xây dựng xuân mai',\n",
       "       'công ty cp đầu tư xây dựng hạ tầng và giao thông',\n",
       "       'công ty cp đầu tư và thương mại thủ đô',\n",
       "       'công ty tnhh 19-12 bắc hà', 'tập đoàn capitaland',\n",
       "       'xí nghiệp xây dựng tư nhân số 1 lai châu',\n",
       "       'công ty cp đầu tư và xây dựng hud1', 'công ty tnhh hanotex',\n",
       "       'tập đoàn bitexco', 'tổng công ty xây dựng hà nội',\n",
       "       'tập đoàn tecco', 'công ty cp phát triển tài trợ  địa ốc r.c',\n",
       "       'công ty đầu tư xây dựng số 2 hà nội', 'công ty booyoung',\n",
       "       'công ty cổ phần địa ốc mb',\n",
       "       'công ty cp xây dựng và kỹ thuật việt nam ',\n",
       "       'công ty cp đầu tư hải đăng',\n",
       "       'công ty cp đầu tư và phát triển hòa bình - hbi',\n",
       "       'công ty tnhh indochina land', 'công ty cp hoa anh đào',\n",
       "       'tập đoàn keangnam enterprise', 'công ty cp vinaconex 21',\n",
       "       'công ty cp xây dựng công nghiệp icc',\n",
       "       'công ty cp đầu tư dịch vụ tài chính hoàng huy',\n",
       "       'công ty cp đầu tư - thiết kế và xây dựng việt nam',\n",
       "       'công ty cp eurowindow holding', 'công ty cp đại việt trí tuệ',\n",
       "       'công ty cp xây dựng phục hưng holdings', 'công ty cp tid',\n",
       "       'công ty cp xây lắp điện 1', 'công ty cp vimeco',\n",
       "       'công ty cp eco land', 'công ty cp tập đoàn t&t',\n",
       "       'công ty cp đầu tư xây dựng nhs',\n",
       "       'công ty liên doanh hà việt – tungshing', 'tập đoàn mường thanh',\n",
       "       'công ty tnhh xuân phương', 'công ty cp nông sản agrexim',\n",
       "       'công ty cp bất động sản hanovid'], dtype=object)"
      ]
     },
     "execution_count": 36,
     "metadata": {},
     "output_type": "execute_result"
    }
   ],
   "source": [
    "df['investor'].unique()"
   ]
  },
  {
   "cell_type": "code",
   "execution_count": null,
   "id": "edc0e095",
   "metadata": {},
   "outputs": [],
   "source": []
  }
 ],
 "metadata": {
  "kernelspec": {
   "display_name": "Python 3 (ipykernel)",
   "language": "python",
   "name": "python3"
  },
  "language_info": {
   "codemirror_mode": {
    "name": "ipython",
    "version": 3
   },
   "file_extension": ".py",
   "mimetype": "text/x-python",
   "name": "python",
   "nbconvert_exporter": "python",
   "pygments_lexer": "ipython3",
   "version": "3.9.7"
  }
 },
 "nbformat": 4,
 "nbformat_minor": 5
}
